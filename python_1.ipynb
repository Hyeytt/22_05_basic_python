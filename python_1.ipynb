{
  "nbformat": 4,
  "nbformat_minor": 0,
  "metadata": {
    "colab": {
      "provenance": [],
      "collapsed_sections": [],
      "authorship_tag": "ABX9TyPW74a8eixZCf5qDXfUdppY",
      "include_colab_link": true
    },
    "kernelspec": {
      "name": "python3",
      "display_name": "Python 3"
    },
    "language_info": {
      "name": "python"
    }
  },
  "cells": [
    {
      "cell_type": "markdown",
      "metadata": {
        "id": "view-in-github",
        "colab_type": "text"
      },
      "source": [
        "<a href=\"https://colab.research.google.com/github/Hyeytt/22_05_basic_python/blob/main/python_1.ipynb\" target=\"_parent\"><img src=\"https://colab.research.google.com/assets/colab-badge.svg\" alt=\"Open In Colab\"/></a>"
      ]
    },
    {
      "cell_type": "code",
      "execution_count": null,
      "metadata": {
        "colab": {
          "base_uri": "https://localhost:8080/"
        },
        "id": "Ebam3ShV6e-t",
        "outputId": "b4a397e8-5fb5-4c41-ed11-a58309521722"
      },
      "outputs": [
        {
          "output_type": "stream",
          "name": "stdout",
          "text": [
            "hello world\n"
          ]
        }
      ],
      "source": [
        "print(\"hello world\")"
      ]
    },
    {
      "cell_type": "code",
      "source": [
        "print('hello world')"
      ],
      "metadata": {
        "colab": {
          "base_uri": "https://localhost:8080/"
        },
        "id": "LfAXSJxD6_pL",
        "outputId": "85bbb9be-fc5f-46a6-99a1-5a7c867df399"
      },
      "execution_count": null,
      "outputs": [
        {
          "output_type": "stream",
          "name": "stdout",
          "text": [
            "hello world\n"
          ]
        }
      ]
    },
    {
      "cell_type": "code",
      "source": [
        "print(1+2)"
      ],
      "metadata": {
        "colab": {
          "base_uri": "https://localhost:8080/"
        },
        "id": "1E-wAUow7Kku",
        "outputId": "9a4d6154-789b-47f1-9345-b377c3dff775"
      },
      "execution_count": null,
      "outputs": [
        {
          "output_type": "stream",
          "name": "stdout",
          "text": [
            "3\n"
          ]
        }
      ]
    },
    {
      "cell_type": "code",
      "source": [
        "print(2*3)"
      ],
      "metadata": {
        "colab": {
          "base_uri": "https://localhost:8080/"
        },
        "id": "Or6cWPln7Qvb",
        "outputId": "bf4e5b8c-c1f6-4c2a-ec82-83c335ceab2a"
      },
      "execution_count": null,
      "outputs": [
        {
          "output_type": "stream",
          "name": "stdout",
          "text": [
            "6\n"
          ]
        }
      ]
    },
    {
      "cell_type": "code",
      "source": [
        "print(True)"
      ],
      "metadata": {
        "colab": {
          "base_uri": "https://localhost:8080/"
        },
        "id": "M0oZ_UUu8wUG",
        "outputId": "9436573e-8064-4ffe-d43c-79d4f218807b"
      },
      "execution_count": null,
      "outputs": [
        {
          "output_type": "stream",
          "name": "stdout",
          "text": [
            "True\n"
          ]
        }
      ]
    },
    {
      "cell_type": "code",
      "source": [
        "print(False)"
      ],
      "metadata": {
        "colab": {
          "base_uri": "https://localhost:8080/"
        },
        "id": "IFhCwoc986GP",
        "outputId": "6ff40a28-8ad8-4deb-af94-7d3c72d23ccc"
      },
      "execution_count": null,
      "outputs": [
        {
          "output_type": "stream",
          "name": "stdout",
          "text": [
            "False\n"
          ]
        }
      ]
    },
    {
      "cell_type": "code",
      "source": [
        "a = 3 \n",
        "b = 4 \n",
        "c= a + b\n",
        "print(c); print(a); print(b)"
      ],
      "metadata": {
        "colab": {
          "base_uri": "https://localhost:8080/"
        },
        "id": "VttWfORF88xO",
        "outputId": "49cafe54-dc6f-44fc-9e59-94cdb93ffe19"
      },
      "execution_count": null,
      "outputs": [
        {
          "output_type": "stream",
          "name": "stdout",
          "text": [
            "7\n",
            "3\n",
            "4\n"
          ]
        }
      ]
    },
    {
      "cell_type": "code",
      "source": [
        "a = \"안녕하세요,\";\n",
        "b = \"반갑습니다.\";\n",
        "c = a + b;\n",
        "print(c); "
      ],
      "metadata": {
        "colab": {
          "base_uri": "https://localhost:8080/"
        },
        "id": "MaOTB7SM9055",
        "outputId": "d98c9fd5-c266-4b63-bcc6-fd41a5607947"
      },
      "execution_count": null,
      "outputs": [
        {
          "output_type": "stream",
          "name": "stdout",
          "text": [
            "안녕하세요,반갑습니다.\n"
          ]
        }
      ]
    },
    {
      "cell_type": "code",
      "source": [
        "a = \"안녕하세요.\";\n",
        "b = a * 10;\n",
        "print(b)"
      ],
      "metadata": {
        "colab": {
          "base_uri": "https://localhost:8080/"
        },
        "id": "1cmoVmbJ9YO6",
        "outputId": "eddfcb82-7a1a-417f-c377-82f1603edd82"
      },
      "execution_count": null,
      "outputs": [
        {
          "output_type": "stream",
          "name": "stdout",
          "text": [
            "안녕하세요.안녕하세요.안녕하세요.안녕하세요.안녕하세요.안녕하세요.안녕하세요.안녕하세요.안녕하세요.안녕하세요.\n"
          ]
        }
      ]
    },
    {
      "cell_type": "code",
      "source": [
        "print(\"###############\")\n",
        "print(\"#\" * 15)"
      ],
      "metadata": {
        "colab": {
          "base_uri": "https://localhost:8080/"
        },
        "id": "IBSRM9dV-jAH",
        "outputId": "d3835fcc-25f5-40a6-ac21-c25dcde987da"
      },
      "execution_count": null,
      "outputs": [
        {
          "output_type": "stream",
          "name": "stdout",
          "text": [
            "###############\n",
            "###############\n"
          ]
        }
      ]
    },
    {
      "cell_type": "markdown",
      "source": [
        "아버지와 어머니 그리고 삼촌에게 감사한 마음을 전하고 싶습니다.\n",
        "아버지에게는 10만원, 어머니에게 15만원, 삼촌에게는 \"감사합니다.\"\n",
        "변수: _Father, _Mother, _Uncle "
      ],
      "metadata": {
        "id": "9-njfDUL_BuY"
      }
    },
    {
      "cell_type": "code",
      "source": [
        "_Father = \"100,000\"\n",
        "_Mother = \"150,000\"\n",
        "_Uncle  = \"감사합니다\"\n",
        "Thanks = _Father, _Mother, _Uncle \n",
        "print(Thanks)"
      ],
      "metadata": {
        "colab": {
          "base_uri": "https://localhost:8080/"
        },
        "id": "kJ-nV2Zh-7XC",
        "outputId": "9bb8dd97-e2b8-45dc-f33d-2904800f4113"
      },
      "execution_count": null,
      "outputs": [
        {
          "output_type": "stream",
          "name": "stdout",
          "text": [
            "('100,000', '150,000', '감사합니다')\n"
          ]
        }
      ]
    },
    {
      "cell_type": "code",
      "source": [
        "_Father = \"100,000\"\n",
        "_Mother = \"150,000\"\n",
        "_Uncle  = \"감사합니다\"\n",
        "print(\"아버지=\", _Father,\"원\")\n",
        "print(\"어머니=\", _Mother,\"원\")\n",
        "print(\"삼촌=\", _Uncle)"
      ],
      "metadata": {
        "colab": {
          "base_uri": "https://localhost:8080/"
        },
        "id": "fExb30aAAj-D",
        "outputId": "6da46d34-96a4-42ef-d26a-7829697373ad"
      },
      "execution_count": null,
      "outputs": [
        {
          "output_type": "stream",
          "name": "stdout",
          "text": [
            "아버지= 100,000 원\n",
            "어머니= 150,000 원\n",
            "삼촌= 감사합니다\n"
          ]
        }
      ]
    },
    {
      "cell_type": "markdown",
      "source": [
        "변수의 규칙 : 문자 또는 언더바로 시작(_Father,father, Father )\n",
        "문자, 숫자, 언더바 구성 (Father55, father55,father_55), \n",
        "공백은 절대 안됨(안쓰는 것이 좋다), 특수문자 절대 안됨"
      ],
      "metadata": {
        "id": "SlDsEeVgBQhG"
      }
    },
    {
      "cell_type": "markdown",
      "source": [
        "FATHER, father, MOTHER, mother ,_Father, _father 모두다르게 인식\n",
        "Keyword (True, False, for , while, if, continue, break,class.. ) 예약어는 변수로 사용X"
      ],
      "metadata": {
        "id": "I2i5eCnaCPZK"
      }
    },
    {
      "cell_type": "markdown",
      "source": [
        "숫자자료형 = 숫자 ,문자자료형 = 모든 문자들"
      ],
      "metadata": {
        "id": "unYctH23DUPb"
      }
    },
    {
      "cell_type": "code",
      "source": [
        "a = 2\n",
        "b = \"2\"\n",
        "c = a + int(b)\n",
        "print(c)"
      ],
      "metadata": {
        "id": "7uIHDTD2DIyI",
        "outputId": "979a6de7-aff4-44fc-e475-c3fae7aa6480",
        "colab": {
          "base_uri": "https://localhost:8080/"
        }
      },
      "execution_count": 1,
      "outputs": [
        {
          "output_type": "stream",
          "name": "stdout",
          "text": [
            "4\n"
          ]
        }
      ]
    },
    {
      "cell_type": "markdown",
      "source": [
        "형변환 : int() 정수형으로 변환 , float() 실수형으로 변환 , str() 문자자료형으로 변환 , int(\"꽈배기\")X , \n",
        " int((float(\"2.5\")) _2만 남게됨 / 2.5문자\"\",실수,정수\n"
      ],
      "metadata": {
        "id": "L0s2SeDbDrSs"
      }
    },
    {
      "cell_type": "markdown",
      "source": [
        "산술연산자: + 더하기 print(4 + 3) , - 빼기 print(2-1) , *곱하기 print(4*5) , / 나누기 print(4/2) , % 나머지 print(5%2) , 몫 // print(6//2) , 거듭제곱 ** print(4**2)"
      ],
      "metadata": {
        "id": "OEl0qjmVFA1j"
      }
    }
  ]
}