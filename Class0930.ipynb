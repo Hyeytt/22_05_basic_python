{
  "nbformat": 4,
  "nbformat_minor": 0,
  "metadata": {
    "colab": {
      "provenance": [],
      "authorship_tag": "ABX9TyP55PLzzOfQU7+JFb/5L+yf",
      "include_colab_link": true
    },
    "kernelspec": {
      "name": "python3",
      "display_name": "Python 3"
    },
    "language_info": {
      "name": "python"
    }
  },
  "cells": [
    {
      "cell_type": "markdown",
      "metadata": {
        "id": "view-in-github",
        "colab_type": "text"
      },
      "source": [
        "<a href=\"https://colab.research.google.com/github/Hyeytt/22_05_basic_python/blob/main/Class0930.ipynb\" target=\"_parent\"><img src=\"https://colab.research.google.com/assets/colab-badge.svg\" alt=\"Open In Colab\"/></a>"
      ]
    },
    {
      "cell_type": "code",
      "execution_count": 1,
      "metadata": {
        "colab": {
          "base_uri": "https://localhost:8080/"
        },
        "id": "PHzaFqJeKo5M",
        "outputId": "c3fedc16-c6e8-45de-9a5f-47d864710a19"
      },
      "outputs": [
        {
          "output_type": "stream",
          "name": "stdout",
          "text": [
            "x = 10\n",
            "x = 3.14\n",
            "x = hello world!\n"
          ]
        }
      ],
      "source": [
        "x = 10\n",
        "print(\"x =\", x)\n",
        "x = 3.14\n",
        "print(\"x =\", x)\n",
        "x = \"hello world!\"\n",
        "print(\"x =\", x)"
      ]
    },
    {
      "cell_type": "code",
      "source": [],
      "metadata": {
        "id": "6amefav4OYmS"
      },
      "execution_count": null,
      "outputs": []
    },
    {
      "cell_type": "markdown",
      "source": [
        "idle 인터프리터 언어 대화형 ㅋ메모리 임시저장  cpu 실행  디스크  입력 출력 실행\n",
        "\n",
        "코랩, vscode 컴파일러 "
      ],
      "metadata": {
        "id": "HrhBr9IWPtL1"
      }
    },
    {
      "cell_type": "code",
      "source": [
        "x = input(\"정수를 입력하시오: \")\n",
        "y = input(\"정수를 입력하시오: \")\n",
        "print(x + y)"
      ],
      "metadata": {
        "colab": {
          "base_uri": "https://localhost:8080/"
        },
        "id": "arLJTn_NSnJR",
        "outputId": "8ad7fa1d-2922-49bb-d18c-b97b7e396996"
      },
      "execution_count": 2,
      "outputs": [
        {
          "output_type": "stream",
          "name": "stdout",
          "text": [
            "정수를 입력하시오: 100\n",
            "정수를 입력하시오: 200\n",
            "100200\n"
          ]
        }
      ]
    },
    {
      "cell_type": "markdown",
      "source": [
        "    x = input(\"정수를 입력하시오: \")\n",
        "    y = input(\"정수를 입력하시오: \")\n",
        "    print(x + y)\n",
        "100200\n",
        "..문자열로 받았기 때문에 "
      ],
      "metadata": {
        "id": "23CqKLINTGiC"
      }
    },
    {
      "cell_type": "code",
      "source": [
        "x = int(input(\"정수를 입력하시오: \"))\n",
        "y = int(input(\"정수를 입력하시오: \"))\n",
        "print(x + y)"
      ],
      "metadata": {
        "colab": {
          "base_uri": "https://localhost:8080/"
        },
        "id": "bu1N3Cb7TWan",
        "outputId": "2190295d-bb7c-464f-dfa3-156c7c092cb2"
      },
      "execution_count": 4,
      "outputs": [
        {
          "output_type": "stream",
          "name": "stdout",
          "text": [
            "정수를 입력하시오: 100\n",
            "정수를 입력하시오: 200\n",
            "300\n"
          ]
        }
      ]
    },
    {
      "cell_type": "markdown",
      "source": [
        "int 문자열을 정수로 변환"
      ],
      "metadata": {
        "id": "t_GkE5v4T31C"
      }
    },
    {
      "cell_type": "code",
      "source": [
        "t=input(\"정수를 입력하시오: \")                     #int 괄호사이에 t 넣기 \n",
        "x = int(t)                                        #x로 새로 받음\n",
        "                                                  #input이 있으면 새로 받음 \n",
        "t=input(\"정수를 입력하시오: \")                    #int 괄호사이에 t 넣기 \n",
        "y = int(t)\n",
        "print(x+y)"
      ],
      "metadata": {
        "colab": {
          "base_uri": "https://localhost:8080/"
        },
        "id": "aIi0u8bZU66T",
        "outputId": "66bc4745-a288-427a-c245-dcbb119abfe6"
      },
      "execution_count": 6,
      "outputs": [
        {
          "output_type": "stream",
          "name": "stdout",
          "text": [
            "정수를 입력하시오: 100\n",
            "정수를 입력하시오: 200\n",
            "300\n"
          ]
        }
      ]
    },
    {
      "cell_type": "markdown",
      "source": [
        "곱하기만 문자열과 숫자 반복가능 "
      ],
      "metadata": {
        "id": "w3FNvkMNWvCz"
      }
    },
    {
      "cell_type": "code",
      "source": [
        "print('나는 현재' + str(21) + '입니다')"
      ],
      "metadata": {
        "colab": {
          "base_uri": "https://localhost:8080/"
        },
        "id": "nkL4N92NXMrH",
        "outputId": "09691ca1-1b02-4e12-fbe1-2aa95ad35d75"
      },
      "execution_count": 8,
      "outputs": [
        {
          "output_type": "stream",
          "name": "stdout",
          "text": [
            "나는 현재21입니다\n"
          ]
        }
      ]
    }
  ]
}