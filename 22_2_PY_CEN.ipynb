{
  "nbformat": 4,
  "nbformat_minor": 0,
  "metadata": {
    "colab": {
      "provenance": [],
      "authorship_tag": "ABX9TyMeKQ1Or0n/ZkKEep9vfCp1",
      "include_colab_link": true
    },
    "kernelspec": {
      "name": "python3",
      "display_name": "Python 3"
    },
    "language_info": {
      "name": "python"
    }
  },
  "cells": [
    {
      "cell_type": "markdown",
      "metadata": {
        "id": "view-in-github",
        "colab_type": "text"
      },
      "source": [
        "<a href=\"https://colab.research.google.com/github/Hyeytt/22_05_basic_python/blob/main/22_2_PY_CEN.ipynb\" target=\"_parent\"><img src=\"https://colab.research.google.com/assets/colab-badge.svg\" alt=\"Open In Colab\"/></a>"
      ]
    },
    {
      "cell_type": "markdown",
      "source": [
        "19"
      ],
      "metadata": {
        "id": "o5z-SWKyTmKD"
      }
    },
    {
      "cell_type": "code",
      "source": [
        "print(1+2, 2-3, 3*4, 4/4)"
      ],
      "metadata": {
        "colab": {
          "base_uri": "https://localhost:8080/"
        },
        "id": "SQRQ7TLpUVWQ",
        "outputId": "9f492ae8-6914-40fd-add5-10834e615e60"
      },
      "execution_count": 2,
      "outputs": [
        {
          "output_type": "stream",
          "name": "stdout",
          "text": [
            "3 -1 12 1.0\n"
          ]
        }
      ]
    },
    {
      "cell_type": "markdown",
      "source": [
        "# 20 아래의 출력화면을 간결하고 보기좋게 코딩\n",
        "\n",
        "*****************************************\n",
        "* 제 1조 1항 대한민국은 민주공화국이다. *\n",
        "*****************************************"
      ],
      "metadata": {
        "id": "1uu6WrdlUrNR"
      }
    },
    {
      "cell_type": "code",
      "source": [
        "print(\"*\" * 40 )\n",
        "print(\" *제 1조 1항 대한민국은 민주공화국이다. *\")\n",
        "print(\"*\" * 40 )"
      ],
      "metadata": {
        "colab": {
          "base_uri": "https://localhost:8080/"
        },
        "id": "Nw60LYn0Ur3J",
        "outputId": "8c4c3ac9-ba3f-48da-f529-b7e3503c52b2"
      },
      "execution_count": 5,
      "outputs": [
        {
          "output_type": "stream",
          "name": "stdout",
          "text": [
            "****************************************\n",
            " *제 1조 1항 대한민국은 민주공화국이다. *\n",
            "****************************************\n"
          ]
        }
      ]
    },
    {
      "cell_type": "markdown",
      "source": [
        "github/yusangmin/"
      ],
      "metadata": {
        "id": "qamQgs41Vsv3"
      }
    },
    {
      "cell_type": "markdown",
      "source": [
        "# 21 사용자에게 성명, 나이, 주소를 입력받아서 출력하라"
      ],
      "metadata": {
        "id": "DywxWsS_WCVA"
      }
    },
    {
      "cell_type": "code",
      "source": [
        "name = input(\"이름을 입력하시오 : \")\n",
        "age = input(\"나이를 입력하시오 : \")\n",
        "addr = input(\"주소를 입력하시오 : \")\n",
        "print(name, age , addr)\n"
      ],
      "metadata": {
        "colab": {
          "base_uri": "https://localhost:8080/"
        },
        "id": "dvpOmSN1WNY4",
        "outputId": "4169ac09-df15-44f1-ac02-ab5601c83d6b"
      },
      "execution_count": 7,
      "outputs": [
        {
          "output_type": "stream",
          "name": "stdout",
          "text": [
            "이름을 입력하시오 : 정현태\n",
            "나이를 입력하시오 : 20\n",
            "주소를 입력하시오 : 0\n",
            "정현태 20 0\n"
          ]
        }
      ]
    },
    {
      "cell_type": "markdown",
      "source": [
        "# 22"
      ],
      "metadata": {
        "id": "SuZ2MvsVXVTQ"
      }
    },
    {
      "cell_type": "markdown",
      "source": [
        "# 29"
      ],
      "metadata": {
        "id": "zM8N4thmXZSJ"
      }
    },
    {
      "cell_type": "code",
      "source": [
        "n1 = input(\"첫번째 정수를 입력하시오 : \")\n",
        "n2 = input(\"두번째 정수를 입력하시오 : \")\n",
        "print(\"두 합의 값은\", n1 +n2, \"입니다\")"
      ],
      "metadata": {
        "colab": {
          "base_uri": "https://localhost:8080/"
        },
        "id": "SKWTdoxcZr3o",
        "outputId": "24578ab4-e13b-432b-e8ee-daf0afe69794"
      },
      "execution_count": 10,
      "outputs": [
        {
          "output_type": "stream",
          "name": "stdout",
          "text": [
            "첫번째 정수를 입력하시오 : 100\n",
            "두번째 정수를 입력하시오 : 100\n",
            "두 합의 값은 100100 입니다\n"
          ]
        }
      ]
    },
    {
      "cell_type": "code",
      "source": [
        "n1 = int(input(\"첫번째 정수를 입력하시오 : \"))\n",
        "n2 = int(input(\"두번째 정수를 입력하시오 : \"))\n",
        "print(\"두 합의 값은\", n1 +n2, \"입니다\")"
      ],
      "metadata": {
        "colab": {
          "base_uri": "https://localhost:8080/"
        },
        "id": "_N6BrJe4ajcO",
        "outputId": "3f66253d-93d7-416c-8c15-a63c712d83bd"
      },
      "execution_count": 11,
      "outputs": [
        {
          "output_type": "stream",
          "name": "stdout",
          "text": [
            "첫번째 정수를 입력하시오 : 100\n",
            "두번째 정수를 입력하시오 : 200\n",
            "두 합의 값은 300 입니다\n"
          ]
        }
      ]
    },
    {
      "cell_type": "markdown",
      "source": [],
      "metadata": {
        "id": "ywP_D-2PaiBm"
      }
    }
  ]
}