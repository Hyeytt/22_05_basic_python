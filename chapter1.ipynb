{
  "nbformat": 4,
  "nbformat_minor": 0,
  "metadata": {
    "colab": {
      "provenance": [],
      "authorship_tag": "ABX9TyNRBTF26D2SiVbKIZdltJkt",
      "include_colab_link": true
    },
    "kernelspec": {
      "name": "python3",
      "display_name": "Python 3"
    },
    "language_info": {
      "name": "python"
    }
  },
  "cells": [
    {
      "cell_type": "markdown",
      "metadata": {
        "id": "view-in-github",
        "colab_type": "text"
      },
      "source": [
        "<a href=\"https://colab.research.google.com/github/Hyeytt/22_05_basic_python/blob/main/chapter1.ipynb\" target=\"_parent\"><img src=\"https://colab.research.google.com/assets/colab-badge.svg\" alt=\"Open In Colab\"/></a>"
      ]
    },
    {
      "cell_type": "markdown",
      "source": [
        "# 도전문제 :\"안녕하세요?\"를 화면에 출력하여 보자"
      ],
      "metadata": {
        "id": "T-4S9sdk1y4i"
      }
    },
    {
      "cell_type": "code",
      "source": [
        "print(\"안녕하세요?\")"
      ],
      "metadata": {
        "colab": {
          "base_uri": "https://localhost:8080/"
        },
        "id": "PGYH-m_91zRc",
        "outputId": "754c94f2-b05c-4aff-fc8d-fd55e9dc8e3e"
      },
      "execution_count": 2,
      "outputs": [
        {
          "output_type": "stream",
          "name": "stdout",
          "text": [
            "안녕하세요?\n"
          ]
        }
      ]
    },
    {
      "cell_type": "markdown",
      "source": [
        "# 도전문제 : \"programming에 입문하신 것을 축하드립니다.\"를 출력하여 보자"
      ],
      "metadata": {
        "id": "Q_cqtaPc1-4e"
      }
    },
    {
      "cell_type": "code",
      "source": [
        "print(\"programming에 입문하신 것을 축하드립니다.\")"
      ],
      "metadata": {
        "colab": {
          "base_uri": "https://localhost:8080/"
        },
        "id": "ZnNvkMbh2ZUk",
        "outputId": "7c55e73e-989d-409c-9299-ed711e478abf"
      },
      "execution_count": 3,
      "outputs": [
        {
          "output_type": "stream",
          "name": "stdout",
          "text": [
            "programming에 입문하신 것을 축하드립니다.\n"
          ]
        }
      ]
    },
    {
      "cell_type": "markdown",
      "source": [
        "# 도전문제 : python의IDLE를 이용하여 다음과 같은 계산을 하여보자\n",
        "(1) 3.141592 * 10.0 * 10.0\n",
        "(2) (1/100)*1234"
      ],
      "metadata": {
        "id": "dk9UAy_D2j46"
      }
    },
    {
      "cell_type": "code",
      "source": [
        "print(3.141592*10.0*10.0)"
      ],
      "metadata": {
        "colab": {
          "base_uri": "https://localhost:8080/"
        },
        "id": "v2jH8utc21zx",
        "outputId": "7d1dd9c6-ff40-4c15-de01-ccca0b9fa284"
      },
      "execution_count": 5,
      "outputs": [
        {
          "output_type": "stream",
          "name": "stdout",
          "text": [
            "314.1592\n"
          ]
        }
      ]
    },
    {
      "cell_type": "code",
      "source": [
        "print((1/100)*1234)"
      ],
      "metadata": {
        "colab": {
          "base_uri": "https://localhost:8080/"
        },
        "id": "m8_5bxQC3awb",
        "outputId": "1963333b-e4bd-4a1b-d205-673065c9ec06"
      },
      "execution_count": 6,
      "outputs": [
        {
          "output_type": "stream",
          "name": "stdout",
          "text": [
            "12.34\n"
          ]
        }
      ]
    },
    {
      "cell_type": "markdown",
      "source": [
        "# 도전문제 : 화살표를 움직여서 6각형을 그려보자. 회전하는 각도를 몇도로 하여야 하는가?"
      ],
      "metadata": {
        "id": "YcJb3TUj4CG6"
      }
    },
    {
      "cell_type": "markdown",
      "source": [
        "1.화살표를 움직인 ver \n",
        "\n",
        "\n",
        "    import turtle as t\n",
        "\n",
        "    t.forward(100)\n",
        "\n",
        "    t.left(60)\n",
        "\n",
        "    t.forward(100)\n",
        "\n",
        "    t.left(60)\n",
        "\n",
        "    t.forward(100)\n",
        "\n",
        "    t.left(60)\n",
        "\n",
        "    t.forward(100)\n",
        "\n",
        "    t.left(60)\n",
        "\n",
        "    t.forward(100)\n",
        "\n",
        "    t.left(60)\n",
        "\n",
        "    t.forward(100)\n",
        "\n",
        "    t.left(60)\n"
      ],
      "metadata": {
        "id": "vomhpxTU6BvG"
      }
    },
    {
      "cell_type": "markdown",
      "source": [
        "  2.거북이를 생성한 ver\n",
        "\n",
        "\n",
        "    import turtle as t\n",
        "\n",
        "    t.shape(\"turtle\")\n",
        "\n",
        "    t.forward(100)\n",
        "\n",
        "    t.left(60)\n",
        "\n",
        "    t.forward(100)\n",
        "\n",
        "    t.left(60)\n",
        "\n",
        "    t.forward(100)\n",
        "\n",
        "    t.left(60)\n",
        "\n",
        "    t.forward(100)\n",
        "\n",
        "    t.left(60)\n",
        "\n",
        "    t.forward(100)\n",
        "\n",
        "    t.left(60)\n",
        "\n",
        "    t.forward(100)\n",
        "\n",
        "    t.left(60)\n"
      ],
      "metadata": {
        "id": "ZofZ1MXr4XXT"
      }
    },
    {
      "cell_type": "markdown",
      "source": [
        " 3. 반복문 ver \n",
        "  \n",
        "\n",
        "    import turtle as t\n",
        "\n",
        "    t.shape(\"turtle\")\n",
        "\n",
        "    for i in range(6):\n",
        "\n",
        "     t.forward(100)  #들여쓰기\n",
        "\n",
        "     t.left(60)      #들여쓰기\n"
      ],
      "metadata": {
        "id": "yLwvhliO9Xrp"
      }
    },
    {
      "cell_type": "markdown",
      "source": [
        "# 연습문제1 : \"환영합니다\" , \"파이썬의 세계에 오신 것을 환영합니다\",   \"파이썬은 강력합니다.\" 를 화면에 출력하는 프로그램을 작성하시오"
      ],
      "metadata": {
        "id": "Nqt-lg6L6g-G"
      }
    },
    {
      "cell_type": "code",
      "source": [
        "print(\"환영합니다\")"
      ],
      "metadata": {
        "colab": {
          "base_uri": "https://localhost:8080/"
        },
        "id": "v0fI9yiG603f",
        "outputId": "4ffe00f3-8c50-4030-c0d3-e26b9f11beb6"
      },
      "execution_count": 16,
      "outputs": [
        {
          "output_type": "stream",
          "name": "stdout",
          "text": [
            "환영합니다\n"
          ]
        }
      ]
    },
    {
      "cell_type": "code",
      "source": [
        "print( \"파이썬의 세계에 오신 것을 환영합니다\")"
      ],
      "metadata": {
        "colab": {
          "base_uri": "https://localhost:8080/"
        },
        "id": "DpgO_iZ969YQ",
        "outputId": "ad7bf076-75d3-4012-c3e6-3b266b316c5d"
      },
      "execution_count": 17,
      "outputs": [
        {
          "output_type": "stream",
          "name": "stdout",
          "text": [
            "파이썬의 세계에 오신 것을 환영합니다\n"
          ]
        }
      ]
    },
    {
      "cell_type": "code",
      "source": [
        "print(\"파이썬은 강력합니다.\")"
      ],
      "metadata": {
        "colab": {
          "base_uri": "https://localhost:8080/"
        },
        "id": "XcFJnIBI7A8S",
        "outputId": "7eb07648-0a33-4e56-81da-9aab803c5e2a"
      },
      "execution_count": 18,
      "outputs": [
        {
          "output_type": "stream",
          "name": "stdout",
          "text": [
            "파이썬은 강력합니다.\n"
          ]
        }
      ]
    },
    {
      "cell_type": "markdown",
      "source": [
        "# 연습문제2 : 다음 프로그램의 실행 결과를 쓰시오\n",
        "\n",
        "print(\"반갑습니다. 파이썬!\")\n",
        "\n",
        "print(2*3/10)\n",
        "\n",
        "print(\"hello\", \"world\", \"!!!\")"
      ],
      "metadata": {
        "id": "CC21OTo87Enh"
      }
    },
    {
      "cell_type": "code",
      "source": [
        "print(\"반갑습니다. 파이썬!\")"
      ],
      "metadata": {
        "colab": {
          "base_uri": "https://localhost:8080/"
        },
        "id": "atO22Vjj7nRN",
        "outputId": "4eee6f67-92d4-4577-8cdb-0d146ca7501e"
      },
      "execution_count": 19,
      "outputs": [
        {
          "output_type": "stream",
          "name": "stdout",
          "text": [
            "반갑습니다. 파이썬!\n"
          ]
        }
      ]
    },
    {
      "cell_type": "code",
      "source": [
        "print(2*3/10)"
      ],
      "metadata": {
        "colab": {
          "base_uri": "https://localhost:8080/"
        },
        "id": "ZGhD2I4S7o5-",
        "outputId": "9a7079eb-33bd-4cfb-bb2a-7ea24b462975"
      },
      "execution_count": 20,
      "outputs": [
        {
          "output_type": "stream",
          "name": "stdout",
          "text": [
            "0.6\n"
          ]
        }
      ]
    },
    {
      "cell_type": "code",
      "source": [
        "print(\"hello\", \"world\", \"!!!\")"
      ],
      "metadata": {
        "colab": {
          "base_uri": "https://localhost:8080/"
        },
        "id": "q0qQqnQw7rLI",
        "outputId": "cc4a87bd-9a87-4e70-bce0-9ff658d653fa"
      },
      "execution_count": 21,
      "outputs": [
        {
          "output_type": "stream",
          "name": "stdout",
          "text": [
            "hello world !!!\n"
          ]
        }
      ]
    },
    {
      "cell_type": "markdown",
      "source": [
        "# 연습문제3 : 파이썬 쉘을 사용하여 한 주가 몇시간에 해당하는지를 계산해보자"
      ],
      "metadata": {
        "id": "N2Xf3s0J7yh-"
      }
    },
    {
      "cell_type": "code",
      "source": [
        "print(7*24)"
      ],
      "metadata": {
        "colab": {
          "base_uri": "https://localhost:8080/"
        },
        "id": "qRkK-j_f77f6",
        "outputId": "1d5b7b32-dab8-4a79-f017-aae5469764f1"
      },
      "execution_count": 15,
      "outputs": [
        {
          "output_type": "stream",
          "name": "stdout",
          "text": [
            "168\n"
          ]
        }
      ]
    },
    {
      "cell_type": "markdown",
      "source": [
        "# 연습문제4 : 터틀 그래픽에서 거북이를 이동시켜서 다음과 같은 그림을 그려보자. foward(), right(), left() 함수만을 사용한다"
      ],
      "metadata": {
        "id": "4g3dCL4J8CDl"
      }
    },
    {
      "cell_type": "markdown",
      "source": [
        "    import turtle as t\n",
        "\n",
        "    t.shape(\"turtle\")\n",
        "\n",
        "    t.forward(100)\n",
        "\n",
        "    t.left(90)\n",
        "\n",
        "    t.forward(100)\n",
        "\n",
        "    t.right(90)\n",
        "\n",
        "    t.forward(100)\n",
        "\n",
        "    t.right(90)\n",
        "\n",
        "    t.forward(100)\n",
        "\n",
        "    t.left(90)\n",
        "\n",
        "    t.forward(100)"
      ],
      "metadata": {
        "id": "Iel_px6l8dD8"
      }
    },
    {
      "cell_type": "markdown",
      "source": [
        "# 연습문제5 : 터틀 그래픽에서 width 함수를 호출하면 거북이가 그리는 선의 두께를 두껍게 한다. 거북이를 이동하여서 다음과 같이 두께가 10인 선을 그려보자. "
      ],
      "metadata": {
        "id": "ce3DQakv-BmK"
      }
    },
    {
      "cell_type": "markdown",
      "source": [
        "    import turtle as t\n",
        "\n",
        "    t.shape(\"turtle\")\n",
        "\n",
        "    t.width(10)\n",
        "\n",
        "    t.forward(100)\n",
        "\n",
        "    t.left(90)\n",
        "\n",
        "    t.forward(100)"
      ],
      "metadata": {
        "id": "EKukjavv-e11"
      }
    },
    {
      "cell_type": "markdown",
      "source": [
        "# 연습문제6 : 터틀 그래픽에서 color 함수를 호출하면 거북이가 그리는 선의 색상을 변경할 수 있다. 색상을 파랑색으로 변경하여서 다음과 같이 길이가 100픽셀인 선을 그려보자"
      ],
      "metadata": {
        "id": "tR-U5gqU-9s-"
      }
    },
    {
      "cell_type": "markdown",
      "source": [
        "    import turtle as t\n",
        "\n",
        "    t.shape(\"turtle\")\n",
        "\n",
        "    t.color(\"blue\")\n",
        "\n",
        "    t.forward(100)\n",
        "\n"
      ],
      "metadata": {
        "id": "lmWm09XE_Wir"
      }
    },
    {
      "cell_type": "markdown",
      "source": [
        "# 연습문제7 : 터틀그래픽에서는 거북이의 모양을 삼각형, 원 ,사각형으로 변경할 수 있다. 다음과 같이 shape() 함수를 사용하면 된다. 사각형으로 변경하고 100픽셀 길이의 직선을 그려보자 "
      ],
      "metadata": {
        "id": "9EsN8FZC_djY"
      }
    },
    {
      "cell_type": "markdown",
      "source": [
        "    import turtle as t\n",
        "\n",
        "    t.shape(\"turtle\")\n",
        "\n",
        "    t.shape(\"square\")\n",
        "\n",
        "    t.forward(100)\n"
      ],
      "metadata": {
        "id": "uIbKaIw4_2HZ"
      }
    },
    {
      "cell_type": "markdown",
      "source": [
        "# 연습문제8 : 터틀 그래픽에서 거북이가 이동할 때 선이 그려지지 않게 하려면 t.up()을 하여 펜을 들 수 있다. 반대로 t.down은 펜을 내려놓는 명령어이다. 거북이를 화면좌표 (100,200)으로 이동시키려면 t.goto(100,200)을 호출한다. 이들 명령어를 조합하여 다음과 같은 그림을 그려보자 "
      ],
      "metadata": {
        "id": "EuCJ51FM_-kX"
      }
    },
    {
      "cell_type": "markdown",
      "source": [
        "    import turtle as t\n",
        "\n",
        "    t.shape(\"turtle\")\n",
        "\n",
        "    t.up()\n",
        "\n",
        "    t.goto(0,0)\n",
        "\n",
        "    t.down()\n",
        "\n",
        "    t.forward(100)\n",
        "\n",
        "    t.up()\n",
        "\n",
        "    t.goto(0,100)\n",
        "\n",
        "    t.down()\n",
        "\n",
        "    t.forward(100)"
      ],
      "metadata": {
        "id": "Ljl3NfMCAvaB"
      }
    },
    {
      "cell_type": "markdown",
      "source": [
        "# 연습문제9 : 터틀 그래픽에서 t.circle(100)이라고 입력하고 실행하면 화면에 반지름이 100인 원이 그려진다. 이들 명령어를 조합하여 화면에 오륜기를 그리는 프로그램을 작성해보자"
      ],
      "metadata": {
        "id": "6TB2qUKJDchX"
      }
    },
    {
      "cell_type": "markdown",
      "source": [
        "    import turtle as t\n",
        "\n",
        "    t.shape(\"turtle\")\n",
        "\n",
        "    t.up()\n",
        "\n",
        "    t.goto(-150,0)\n",
        "\n",
        "    t.down()\n",
        "\n",
        "    t.circle(80)\n",
        "\n",
        "    t.up()\n",
        "\n",
        "    t.goto(0,0)\n",
        "\n",
        "    t.down()\n",
        "\n",
        "    t.circle(80)\n",
        "\n",
        "    t.up()\n",
        "\n",
        "    t.goto(150,0)\n",
        "\n",
        "    t.down()\n",
        "\n",
        "    t.circle(80)\n",
        "\n",
        "    t.up()\n",
        "\n",
        "    t.goto(-80,-100)\n",
        "\n",
        "    t.down()\n",
        "\n",
        "    t.circle(80)\n",
        "\n",
        "    t.up()\n",
        "\n",
        "    t.goto(80,-100)\n",
        "\n",
        "    t.down()\n",
        "\n",
        "    t.circle(80)\n",
        "\n",
        "\n"
      ],
      "metadata": {
        "id": "mdqpmIw9D7Ia"
      }
    }
  ]
}